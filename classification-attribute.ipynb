{
 "cells": [
  {
   "cell_type": "code",
   "execution_count": null,
   "id": "d37647e3",
   "metadata": {
    "_cell_guid": "b1076dfc-b9ad-4769-8c92-a6c4dae69d19",
    "_uuid": "8f2839f25d086af736a60e9eeb907d3b93b6e0e5",
    "execution": {
     "iopub.execute_input": "2025-02-23T10:22:09.800170Z",
     "iopub.status.busy": "2025-02-23T10:22:09.799862Z",
     "iopub.status.idle": "2025-02-23T10:22:11.135495Z",
     "shell.execute_reply": "2025-02-23T10:22:11.134369Z"
    },
    "papermill": {
     "duration": 1.342229,
     "end_time": "2025-02-23T10:22:11.136847",
     "exception": false,
     "start_time": "2025-02-23T10:22:09.794618",
     "status": "completed"
    },
    "tags": []
   },
   "outputs": [
    {
     "name": "stdout",
     "output_type": "stream",
     "text": [
      "/kaggle/input/mushroom-classification/mushrooms.csv\n"
     ]
    }
   ],
   "source": [
    "import numpy as np  \n",
    "import pandas as pd \n",
    "import os\n",
    "for dirname, _, filenames in os.walk('/kaggle/input'):\n",
    "    for filename in filenames:\n",
    "        print(os.path.join(dirname, filename))"
   ]
  },
  {
   "cell_type": "code",
   "execution_count": 2,
   "id": "45afbe95",
   "metadata": {
    "execution": {
     "iopub.execute_input": "2025-02-23T10:22:11.145604Z",
     "iopub.status.busy": "2025-02-23T10:22:11.145168Z",
     "iopub.status.idle": "2025-02-23T10:22:18.238283Z",
     "shell.execute_reply": "2025-02-23T10:22:18.237374Z"
    },
    "papermill": {
     "duration": 7.098716,
     "end_time": "2025-02-23T10:22:18.239832",
     "exception": false,
     "start_time": "2025-02-23T10:22:11.141116",
     "status": "completed"
    },
    "tags": []
   },
   "outputs": [],
   "source": [
    "import torch\n",
    "from torch import nn\n",
    "import matplotlib.pyplot as plt\n",
    "import pandas as pd\n",
    "from sklearn.model_selection import train_test_split\n",
    "from sklearn.preprocessing import LabelEncoder"
   ]
  },
  {
   "cell_type": "markdown",
   "id": "d3c4089d",
   "metadata": {
    "papermill": {
     "duration": 0.003021,
     "end_time": "2025-02-23T10:22:18.246532",
     "exception": false,
     "start_time": "2025-02-23T10:22:18.243511",
     "status": "completed"
    },
    "tags": []
   },
   "source": [
    "All data here are not numerical so we have to encode them."
   ]
  },
  {
   "cell_type": "code",
   "execution_count": 3,
   "id": "2c7c9bb4",
   "metadata": {
    "execution": {
     "iopub.execute_input": "2025-02-23T10:22:18.254389Z",
     "iopub.status.busy": "2025-02-23T10:22:18.253907Z",
     "iopub.status.idle": "2025-02-23T10:22:18.322718Z",
     "shell.execute_reply": "2025-02-23T10:22:18.321844Z"
    },
    "papermill": {
     "duration": 0.074117,
     "end_time": "2025-02-23T10:22:18.323945",
     "exception": false,
     "start_time": "2025-02-23T10:22:18.249828",
     "status": "completed"
    },
    "tags": []
   },
   "outputs": [
    {
     "data": {
      "text/html": [
       "<div>\n",
       "<style scoped>\n",
       "    .dataframe tbody tr th:only-of-type {\n",
       "        vertical-align: middle;\n",
       "    }\n",
       "\n",
       "    .dataframe tbody tr th {\n",
       "        vertical-align: top;\n",
       "    }\n",
       "\n",
       "    .dataframe thead th {\n",
       "        text-align: right;\n",
       "    }\n",
       "</style>\n",
       "<table border=\"1\" class=\"dataframe\">\n",
       "  <thead>\n",
       "    <tr style=\"text-align: right;\">\n",
       "      <th></th>\n",
       "      <th>class</th>\n",
       "      <th>cap-shape</th>\n",
       "      <th>cap-surface</th>\n",
       "      <th>cap-color</th>\n",
       "      <th>bruises</th>\n",
       "      <th>odor</th>\n",
       "      <th>gill-attachment</th>\n",
       "      <th>gill-spacing</th>\n",
       "      <th>gill-size</th>\n",
       "      <th>gill-color</th>\n",
       "      <th>...</th>\n",
       "      <th>stalk-surface-below-ring</th>\n",
       "      <th>stalk-color-above-ring</th>\n",
       "      <th>stalk-color-below-ring</th>\n",
       "      <th>veil-type</th>\n",
       "      <th>veil-color</th>\n",
       "      <th>ring-number</th>\n",
       "      <th>ring-type</th>\n",
       "      <th>spore-print-color</th>\n",
       "      <th>population</th>\n",
       "      <th>habitat</th>\n",
       "    </tr>\n",
       "  </thead>\n",
       "  <tbody>\n",
       "    <tr>\n",
       "      <th>0</th>\n",
       "      <td>p</td>\n",
       "      <td>x</td>\n",
       "      <td>s</td>\n",
       "      <td>n</td>\n",
       "      <td>t</td>\n",
       "      <td>p</td>\n",
       "      <td>f</td>\n",
       "      <td>c</td>\n",
       "      <td>n</td>\n",
       "      <td>k</td>\n",
       "      <td>...</td>\n",
       "      <td>s</td>\n",
       "      <td>w</td>\n",
       "      <td>w</td>\n",
       "      <td>p</td>\n",
       "      <td>w</td>\n",
       "      <td>o</td>\n",
       "      <td>p</td>\n",
       "      <td>k</td>\n",
       "      <td>s</td>\n",
       "      <td>u</td>\n",
       "    </tr>\n",
       "    <tr>\n",
       "      <th>1</th>\n",
       "      <td>e</td>\n",
       "      <td>x</td>\n",
       "      <td>s</td>\n",
       "      <td>y</td>\n",
       "      <td>t</td>\n",
       "      <td>a</td>\n",
       "      <td>f</td>\n",
       "      <td>c</td>\n",
       "      <td>b</td>\n",
       "      <td>k</td>\n",
       "      <td>...</td>\n",
       "      <td>s</td>\n",
       "      <td>w</td>\n",
       "      <td>w</td>\n",
       "      <td>p</td>\n",
       "      <td>w</td>\n",
       "      <td>o</td>\n",
       "      <td>p</td>\n",
       "      <td>n</td>\n",
       "      <td>n</td>\n",
       "      <td>g</td>\n",
       "    </tr>\n",
       "    <tr>\n",
       "      <th>2</th>\n",
       "      <td>e</td>\n",
       "      <td>b</td>\n",
       "      <td>s</td>\n",
       "      <td>w</td>\n",
       "      <td>t</td>\n",
       "      <td>l</td>\n",
       "      <td>f</td>\n",
       "      <td>c</td>\n",
       "      <td>b</td>\n",
       "      <td>n</td>\n",
       "      <td>...</td>\n",
       "      <td>s</td>\n",
       "      <td>w</td>\n",
       "      <td>w</td>\n",
       "      <td>p</td>\n",
       "      <td>w</td>\n",
       "      <td>o</td>\n",
       "      <td>p</td>\n",
       "      <td>n</td>\n",
       "      <td>n</td>\n",
       "      <td>m</td>\n",
       "    </tr>\n",
       "    <tr>\n",
       "      <th>3</th>\n",
       "      <td>p</td>\n",
       "      <td>x</td>\n",
       "      <td>y</td>\n",
       "      <td>w</td>\n",
       "      <td>t</td>\n",
       "      <td>p</td>\n",
       "      <td>f</td>\n",
       "      <td>c</td>\n",
       "      <td>n</td>\n",
       "      <td>n</td>\n",
       "      <td>...</td>\n",
       "      <td>s</td>\n",
       "      <td>w</td>\n",
       "      <td>w</td>\n",
       "      <td>p</td>\n",
       "      <td>w</td>\n",
       "      <td>o</td>\n",
       "      <td>p</td>\n",
       "      <td>k</td>\n",
       "      <td>s</td>\n",
       "      <td>u</td>\n",
       "    </tr>\n",
       "    <tr>\n",
       "      <th>4</th>\n",
       "      <td>e</td>\n",
       "      <td>x</td>\n",
       "      <td>s</td>\n",
       "      <td>g</td>\n",
       "      <td>f</td>\n",
       "      <td>n</td>\n",
       "      <td>f</td>\n",
       "      <td>w</td>\n",
       "      <td>b</td>\n",
       "      <td>k</td>\n",
       "      <td>...</td>\n",
       "      <td>s</td>\n",
       "      <td>w</td>\n",
       "      <td>w</td>\n",
       "      <td>p</td>\n",
       "      <td>w</td>\n",
       "      <td>o</td>\n",
       "      <td>e</td>\n",
       "      <td>n</td>\n",
       "      <td>a</td>\n",
       "      <td>g</td>\n",
       "    </tr>\n",
       "  </tbody>\n",
       "</table>\n",
       "<p>5 rows × 23 columns</p>\n",
       "</div>"
      ],
      "text/plain": [
       "  class cap-shape cap-surface cap-color bruises odor gill-attachment  \\\n",
       "0     p         x           s         n       t    p               f   \n",
       "1     e         x           s         y       t    a               f   \n",
       "2     e         b           s         w       t    l               f   \n",
       "3     p         x           y         w       t    p               f   \n",
       "4     e         x           s         g       f    n               f   \n",
       "\n",
       "  gill-spacing gill-size gill-color  ... stalk-surface-below-ring  \\\n",
       "0            c         n          k  ...                        s   \n",
       "1            c         b          k  ...                        s   \n",
       "2            c         b          n  ...                        s   \n",
       "3            c         n          n  ...                        s   \n",
       "4            w         b          k  ...                        s   \n",
       "\n",
       "  stalk-color-above-ring stalk-color-below-ring veil-type veil-color  \\\n",
       "0                      w                      w         p          w   \n",
       "1                      w                      w         p          w   \n",
       "2                      w                      w         p          w   \n",
       "3                      w                      w         p          w   \n",
       "4                      w                      w         p          w   \n",
       "\n",
       "  ring-number ring-type spore-print-color population habitat  \n",
       "0           o         p                 k          s       u  \n",
       "1           o         p                 n          n       g  \n",
       "2           o         p                 n          n       m  \n",
       "3           o         p                 k          s       u  \n",
       "4           o         e                 n          a       g  \n",
       "\n",
       "[5 rows x 23 columns]"
      ]
     },
     "execution_count": 3,
     "metadata": {},
     "output_type": "execute_result"
    }
   ],
   "source": [
    "data = pd.read_csv(\"../input/mushroom-classification/mushrooms.csv\")\n",
    "data.head()"
   ]
  },
  {
   "cell_type": "code",
   "execution_count": 4,
   "id": "f1159062",
   "metadata": {
    "execution": {
     "iopub.execute_input": "2025-02-23T10:22:18.332414Z",
     "iopub.status.busy": "2025-02-23T10:22:18.332104Z",
     "iopub.status.idle": "2025-02-23T10:22:18.350857Z",
     "shell.execute_reply": "2025-02-23T10:22:18.350027Z"
    },
    "papermill": {
     "duration": 0.02469,
     "end_time": "2025-02-23T10:22:18.352524",
     "exception": false,
     "start_time": "2025-02-23T10:22:18.327834",
     "status": "completed"
    },
    "tags": []
   },
   "outputs": [],
   "source": [
    "X = data.drop('class', axis=1)\n",
    "y = data[[\"class\"]]"
   ]
  },
  {
   "cell_type": "code",
   "execution_count": 5,
   "id": "08151ac3",
   "metadata": {
    "execution": {
     "iopub.execute_input": "2025-02-23T10:22:18.361141Z",
     "iopub.status.busy": "2025-02-23T10:22:18.360827Z",
     "iopub.status.idle": "2025-02-23T10:22:18.392930Z",
     "shell.execute_reply": "2025-02-23T10:22:18.391680Z"
    },
    "papermill": {
     "duration": 0.038128,
     "end_time": "2025-02-23T10:22:18.394656",
     "exception": false,
     "start_time": "2025-02-23T10:22:18.356528",
     "status": "completed"
    },
    "tags": []
   },
   "outputs": [],
   "source": [
    "label_encoder = LabelEncoder()\n",
    "for i in X.columns:\n",
    "    X[i] = label_encoder.fit_transform(X[i])\n",
    "    \n",
    "label_encoder = LabelEncoder()\n",
    "y = label_encoder.fit_transform(y.values.ravel())\n"
   ]
  },
  {
   "cell_type": "code",
   "execution_count": 6,
   "id": "67771340",
   "metadata": {
    "execution": {
     "iopub.execute_input": "2025-02-23T10:22:18.403569Z",
     "iopub.status.busy": "2025-02-23T10:22:18.403189Z",
     "iopub.status.idle": "2025-02-23T10:22:18.408425Z",
     "shell.execute_reply": "2025-02-23T10:22:18.407343Z"
    },
    "papermill": {
     "duration": 0.011221,
     "end_time": "2025-02-23T10:22:18.409826",
     "exception": false,
     "start_time": "2025-02-23T10:22:18.398605",
     "status": "completed"
    },
    "tags": []
   },
   "outputs": [],
   "source": [
    "X = X.to_numpy()"
   ]
  },
  {
   "cell_type": "code",
   "execution_count": 7,
   "id": "cd31e59e",
   "metadata": {
    "execution": {
     "iopub.execute_input": "2025-02-23T10:22:18.418550Z",
     "iopub.status.busy": "2025-02-23T10:22:18.418199Z",
     "iopub.status.idle": "2025-02-23T10:22:18.437439Z",
     "shell.execute_reply": "2025-02-23T10:22:18.436299Z"
    },
    "papermill": {
     "duration": 0.025516,
     "end_time": "2025-02-23T10:22:18.439330",
     "exception": false,
     "start_time": "2025-02-23T10:22:18.413814",
     "status": "completed"
    },
    "tags": []
   },
   "outputs": [],
   "source": [
    "X = torch.from_numpy(X)\n",
    "y = torch.from_numpy(y)"
   ]
  },
  {
   "cell_type": "markdown",
   "id": "f230c350",
   "metadata": {
    "papermill": {
     "duration": 0.003875,
     "end_time": "2025-02-23T10:22:18.447435",
     "exception": false,
     "start_time": "2025-02-23T10:22:18.443560",
     "status": "completed"
    },
    "tags": []
   },
   "source": [
    "Had to convert the dtype here to float32 as we ran into a dtype error where X was int and y was Long"
   ]
  },
  {
   "cell_type": "code",
   "execution_count": 8,
   "id": "a5956cf4",
   "metadata": {
    "execution": {
     "iopub.execute_input": "2025-02-23T10:22:18.455513Z",
     "iopub.status.busy": "2025-02-23T10:22:18.455151Z",
     "iopub.status.idle": "2025-02-23T10:22:18.494773Z",
     "shell.execute_reply": "2025-02-23T10:22:18.493675Z"
    },
    "papermill": {
     "duration": 0.045245,
     "end_time": "2025-02-23T10:22:18.496148",
     "exception": false,
     "start_time": "2025-02-23T10:22:18.450903",
     "status": "completed"
    },
    "tags": []
   },
   "outputs": [
    {
     "data": {
      "text/plain": [
       "(torch.float32, torch.float32)"
      ]
     },
     "execution_count": 8,
     "metadata": {},
     "output_type": "execute_result"
    }
   ],
   "source": [
    "X = X.type(torch.float32)\n",
    "y = y.type(torch.float32)\n",
    "X.dtype, y.dtype"
   ]
  },
  {
   "cell_type": "code",
   "execution_count": 9,
   "id": "e7b01160",
   "metadata": {
    "execution": {
     "iopub.execute_input": "2025-02-23T10:22:18.504488Z",
     "iopub.status.busy": "2025-02-23T10:22:18.504166Z",
     "iopub.status.idle": "2025-02-23T10:22:18.537853Z",
     "shell.execute_reply": "2025-02-23T10:22:18.536793Z"
    },
    "papermill": {
     "duration": 0.039136,
     "end_time": "2025-02-23T10:22:18.539162",
     "exception": false,
     "start_time": "2025-02-23T10:22:18.500026",
     "status": "completed"
    },
    "tags": []
   },
   "outputs": [
    {
     "data": {
      "text/plain": [
       "(6499, 1625, 6499, 1625)"
      ]
     },
     "execution_count": 9,
     "metadata": {},
     "output_type": "execute_result"
    }
   ],
   "source": [
    "X_train, X_test, y_train, y_test = train_test_split(X, y, test_size=0.2, random_state=42)\n",
    "\n",
    "len(X_train), len(X_test), len(y_train), len(y_test) "
   ]
  },
  {
   "cell_type": "markdown",
   "id": "918aefd4",
   "metadata": {
    "papermill": {
     "duration": 0.003403,
     "end_time": "2025-02-23T10:22:18.546543",
     "exception": false,
     "start_time": "2025-02-23T10:22:18.543140",
     "status": "completed"
    },
    "tags": []
   },
   "source": [
    "Had 22 Columns of features in X so the first layer had `in_features=22` then decided to scale it into `out_features=50` and finally ended with `1` \n",
    "<br/>Also included ReLU here to add non-linearity into the model "
   ]
  },
  {
   "cell_type": "code",
   "execution_count": 10,
   "id": "bae3e958",
   "metadata": {
    "execution": {
     "iopub.execute_input": "2025-02-23T10:22:18.554769Z",
     "iopub.status.busy": "2025-02-23T10:22:18.554432Z",
     "iopub.status.idle": "2025-02-23T10:22:18.574416Z",
     "shell.execute_reply": "2025-02-23T10:22:18.573405Z"
    },
    "papermill": {
     "duration": 0.026372,
     "end_time": "2025-02-23T10:22:18.576337",
     "exception": false,
     "start_time": "2025-02-23T10:22:18.549965",
     "status": "completed"
    },
    "tags": []
   },
   "outputs": [
    {
     "data": {
      "text/plain": [
       "MushroomModelV0(\n",
       "  (layer_1): Linear(in_features=22, out_features=50, bias=True)\n",
       "  (layer_2): Linear(in_features=50, out_features=1, bias=True)\n",
       "  (relu): ReLU()\n",
       ")"
      ]
     },
     "execution_count": 10,
     "metadata": {},
     "output_type": "execute_result"
    }
   ],
   "source": [
    "class MushroomModelV0(nn.Module):\n",
    "    def __init__(self):\n",
    "        super().__init__()\n",
    "\n",
    "        self.layer_1 = nn.Linear(in_features=22, out_features=50)\n",
    "        self.layer_2 = nn.Linear(in_features=50, out_features=1)\n",
    "        self.relu = nn.ReLU()\n",
    "\n",
    "\n",
    "    def forward(self, x):\n",
    "        return self.layer_2(self.relu(self.layer_1(x)))\n",
    "\n",
    "\n",
    "model0 = MushroomModelV0()\n",
    "model0"
   ]
  },
  {
   "cell_type": "code",
   "execution_count": 11,
   "id": "8a0f3614",
   "metadata": {
    "execution": {
     "iopub.execute_input": "2025-02-23T10:22:18.585381Z",
     "iopub.status.busy": "2025-02-23T10:22:18.584992Z",
     "iopub.status.idle": "2025-02-23T10:22:22.977342Z",
     "shell.execute_reply": "2025-02-23T10:22:22.976180Z"
    },
    "papermill": {
     "duration": 4.398435,
     "end_time": "2025-02-23T10:22:22.978895",
     "exception": false,
     "start_time": "2025-02-23T10:22:18.580460",
     "status": "completed"
    },
    "tags": []
   },
   "outputs": [],
   "source": [
    "loss_fn = nn.BCEWithLogitsLoss()\n",
    "optimizer = torch.optim.SGD(params=model0.parameters(), lr=0.1)"
   ]
  },
  {
   "cell_type": "code",
   "execution_count": 12,
   "id": "1b5ef923",
   "metadata": {
    "execution": {
     "iopub.execute_input": "2025-02-23T10:22:22.988027Z",
     "iopub.status.busy": "2025-02-23T10:22:22.987555Z",
     "iopub.status.idle": "2025-02-23T10:22:22.991536Z",
     "shell.execute_reply": "2025-02-23T10:22:22.990789Z"
    },
    "papermill": {
     "duration": 0.009948,
     "end_time": "2025-02-23T10:22:22.992833",
     "exception": false,
     "start_time": "2025-02-23T10:22:22.982885",
     "status": "completed"
    },
    "tags": []
   },
   "outputs": [],
   "source": [
    "def accuracy_fn(y_true, y_pred):\n",
    "    correct = torch.eq(y_true, y_pred).sum().item()\n",
    "\n",
    "    acc = (correct / len(y_pred)) * 100\n",
    "    return acc"
   ]
  },
  {
   "cell_type": "code",
   "execution_count": 13,
   "id": "6fe28526",
   "metadata": {
    "execution": {
     "iopub.execute_input": "2025-02-23T10:22:23.002033Z",
     "iopub.status.busy": "2025-02-23T10:22:23.001640Z",
     "iopub.status.idle": "2025-02-23T10:22:23.429844Z",
     "shell.execute_reply": "2025-02-23T10:22:23.428752Z"
    },
    "papermill": {
     "duration": 0.434475,
     "end_time": "2025-02-23T10:22:23.431501",
     "exception": false,
     "start_time": "2025-02-23T10:22:22.997026",
     "status": "completed"
    },
    "tags": []
   },
   "outputs": [
    {
     "name": "stdout",
     "output_type": "stream",
     "text": [
      "Epoch: 0 | Loss: 0.77388, Accuracy: 57.22% | Test Loss: 0.69828, Test Accuracy: 52.62%\n",
      "Epoch: 10 | Loss: 0.50606, Accuracy: 78.90% | Test Loss: 0.50148, Test Accuracy: 78.89%\n",
      "Epoch: 20 | Loss: 0.50375, Accuracy: 79.54% | Test Loss: 0.49442, Test Accuracy: 75.38%\n",
      "Epoch: 30 | Loss: 0.42875, Accuracy: 83.58% | Test Loss: 0.42256, Test Accuracy: 81.66%\n",
      "Epoch: 40 | Loss: 0.41324, Accuracy: 84.95% | Test Loss: 0.41032, Test Accuracy: 80.43%\n",
      "Epoch: 50 | Loss: 0.39858, Accuracy: 85.64% | Test Loss: 0.38579, Test Accuracy: 82.15%\n",
      "Epoch: 60 | Loss: 0.36519, Accuracy: 87.07% | Test Loss: 0.36141, Test Accuracy: 84.06%\n",
      "Epoch: 70 | Loss: 0.36299, Accuracy: 87.12% | Test Loss: 0.35291, Test Accuracy: 84.25%\n",
      "Epoch: 80 | Loss: 0.33888, Accuracy: 88.14% | Test Loss: 0.33268, Test Accuracy: 86.15%\n",
      "Epoch: 90 | Loss: 0.32891, Accuracy: 88.77% | Test Loss: 0.32221, Test Accuracy: 86.83%\n"
     ]
    }
   ],
   "source": [
    "torch.manual_seed(42)\n",
    "\n",
    "epochs = 100\n",
    "\n",
    "# Create empty loss lists to track values\n",
    "train_loss_values = []\n",
    "test_loss_values = []\n",
    "epoch_count = []\n",
    "\n",
    "\n",
    "for epoch in range(epochs):\n",
    "    model0.train()\n",
    "\n",
    "    y_logits = model0(X_train).squeeze() # Added squeeze() here as the loss_fn was throwing a dim error \n",
    "    y_pred = torch.round(torch.sigmoid(y_logits))\n",
    "\n",
    "\n",
    "    loss = loss_fn(y_logits, y_train)\n",
    "    acc = accuracy_fn(y_true=y_train, y_pred=y_pred)\n",
    "\n",
    "    optimizer.zero_grad()\n",
    "    loss.backward()\n",
    "    optimizer.step()\n",
    "    \n",
    "    model0.eval()\n",
    "    with torch.inference_mode():\n",
    "        test_logits = model0(X_test).squeeze() # Added squeeze() here as the loss_fn was throwing a dim error \n",
    "        test_pred = torch.round(torch.sigmoid(test_logits))\n",
    "\n",
    "        test_loss = loss_fn(test_logits, y_test)\n",
    "        test_accuracy = accuracy_fn(y_true=y_test, y_pred=test_pred)\n",
    "\n",
    "    if epoch % 10 == 0:\n",
    "        epoch_count.append(epoch)\n",
    "        train_loss_values.append(loss.detach().numpy())\n",
    "        test_loss_values.append(test_loss.detach().numpy())\n",
    "        print(f\"Epoch: {epoch} | Loss: {loss:.5f}, Accuracy: {acc:.2f}% | Test Loss: {test_loss:.5f}, Test Accuracy: {test_accuracy:.2f}%\")\n",
    "        "
   ]
  },
  {
   "cell_type": "code",
   "execution_count": 14,
   "id": "d5fc6638",
   "metadata": {
    "execution": {
     "iopub.execute_input": "2025-02-23T10:22:23.442752Z",
     "iopub.status.busy": "2025-02-23T10:22:23.442412Z",
     "iopub.status.idle": "2025-02-23T10:22:23.447398Z",
     "shell.execute_reply": "2025-02-23T10:22:23.446480Z"
    },
    "papermill": {
     "duration": 0.012641,
     "end_time": "2025-02-23T10:22:23.449015",
     "exception": false,
     "start_time": "2025-02-23T10:22:23.436374",
     "status": "completed"
    },
    "tags": []
   },
   "outputs": [],
   "source": [
    "model0.eval()\n",
    "\n",
    "with torch.inference_mode():\n",
    "    y_preds = torch.round(torch.sigmoid(model0(X_test))).squeeze()\n",
    "#y_preds[:10], y[:10]\n",
    "correct = torch.eq(y_test, y_preds).sum().item()"
   ]
  },
  {
   "cell_type": "code",
   "execution_count": 15,
   "id": "3e6630bd",
   "metadata": {
    "execution": {
     "iopub.execute_input": "2025-02-23T10:22:23.458872Z",
     "iopub.status.busy": "2025-02-23T10:22:23.458534Z",
     "iopub.status.idle": "2025-02-23T10:22:23.702581Z",
     "shell.execute_reply": "2025-02-23T10:22:23.701397Z"
    },
    "papermill": {
     "duration": 0.250392,
     "end_time": "2025-02-23T10:22:23.704307",
     "exception": false,
     "start_time": "2025-02-23T10:22:23.453915",
     "status": "completed"
    },
    "tags": []
   },
   "outputs": [
    {
     "data": {
      "text/plain": [
       "<matplotlib.legend.Legend at 0x79fe37b49f60>"
      ]
     },
     "execution_count": 15,
     "metadata": {},
     "output_type": "execute_result"
    },
    {
     "data": {
      "image/png": "[encoded data removed]",
      "text/plain": [
       "<Figure size 640x480 with 1 Axes>"
      ]
     },
     "metadata": {},
     "output_type": "display_data"
    }
   ],
   "source": [
    "plt.plot(epoch_count, train_loss_values, label=\"Train Loss\")\n",
    "plt.plot(epoch_count, test_loss_values, label=\"Test Loss\")\n",
    "plt.ylabel(\"Loss\")\n",
    "plt.xlabel(\"Epochs\")\n",
    "plt.legend()"
   ]
  },
  {
   "cell_type": "code",
   "execution_count": null,
   "id": "e2d9fe2f",
   "metadata": {
    "execution": {
     "iopub.execute_input": "2025-02-23T10:22:23.714800Z",
     "iopub.status.busy": "2025-02-23T10:22:23.714473Z",
     "iopub.status.idle": "2025-02-23T10:22:23.720399Z",
     "shell.execute_reply": "2025-02-23T10:22:23.719291Z"
    },
    "papermill": {
     "duration": 0.012953,
     "end_time": "2025-02-23T10:22:23.721881",
     "exception": false,
     "start_time": "2025-02-23T10:22:23.708928",
     "status": "completed"
    },
    "tags": []
   },
   "outputs": [
    {
     "name": "stdout",
     "output_type": "stream",
     "text": [
      "Saving Model to: /kaggle/working/ClassificationModel0.pth\n"
     ]
    }
   ],
   "source": [
    "from pathlib import Path\n",
    "\n",
    "MODEL_PATH = Path(\"\\Mushroom-Classification\")\n",
    "\n",
    "MODEL_NAME = \"ClassificationModel0.pth\"\n",
    "MODEL_SAVE_PATH = MODEL_PATH / MODEL_NAME\n",
    "\n",
    "print(f\"Saving Model to: {MODEL_SAVE_PATH}\")\n",
    "torch.save(obj=model0.state_dict(), f=MODEL_SAVE_PATH)"
   ]
  }
 ],
 "metadata": {
  "kaggle": {
   "accelerator": "none",
   "dataSources": [
    {
     "datasetId": 478,
     "sourceId": 974,
     "sourceType": "datasetVersion"
    }
   ],
   "dockerImageVersionId": 30886,
   "isGpuEnabled": false,
   "isInternetEnabled": true,
   "language": "python",
   "sourceType": "notebook"
  },
  "kernelspec": {
   "display_name": "venv",
   "language": "python",
   "name": "python3"
  },
  "language_info": {
   "codemirror_mode": {
    "name": "ipython",
    "version": 3
   },
   "file_extension": ".py",
   "mimetype": "text/x-python",
   "name": "python",
   "nbconvert_exporter": "python",
   "pygments_lexer": "ipython3",
   "version": "3.11.4"
  },
  "papermill": {
   "default_parameters": {},
   "duration": 18.614117,
   "end_time": "2025-02-23T10:22:25.790776",
   "environment_variables": {},
   "exception": null,
   "input_path": "__notebook__.ipynb",
   "output_path": "__notebook__.ipynb",
   "parameters": {},
   "start_time": "2025-02-23T10:22:07.176659",
   "version": "2.6.0"
  }
 },
 "nbformat": 4,
 "nbformat_minor": 5
}
